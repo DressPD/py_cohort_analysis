{
 "cells": [
  {
   "cell_type": "markdown",
   "metadata": {},
   "source": [
    "# Cohort Analysis\n",
    "### performed by Aris Dressino using notebook within JupyterLab"
   ]
  },
  {
   "cell_type": "markdown",
   "metadata": {},
   "source": [
    "### 1) import df and perform exploratory analysis"
   ]
  },
  {
   "cell_type": "code",
   "execution_count": 1,
   "metadata": {},
   "outputs": [],
   "source": [
    "import numpy as np\n",
    "import pandas as pd\n",
    "import matplotlib.pyplot as plt\n",
    "import warnings\n",
    "import seaborn as sns\n",
    "from operator import attrgetter\n",
    "import matplotlib.colors as mcolors"
   ]
  },
  {
   "cell_type": "code",
   "execution_count": 2,
   "metadata": {},
   "outputs": [
    {
     "data": {
      "text/html": [
       "<div>\n",
       "<style scoped>\n",
       "    .dataframe tbody tr th:only-of-type {\n",
       "        vertical-align: middle;\n",
       "    }\n",
       "\n",
       "    .dataframe tbody tr th {\n",
       "        vertical-align: top;\n",
       "    }\n",
       "\n",
       "    .dataframe thead th {\n",
       "        text-align: right;\n",
       "    }\n",
       "</style>\n",
       "<table border=\"1\" class=\"dataframe\">\n",
       "  <thead>\n",
       "    <tr style=\"text-align: right;\">\n",
       "      <th></th>\n",
       "      <th>billing_address_country</th>\n",
       "      <th>billing_address_zip</th>\n",
       "      <th>customer_id</th>\n",
       "      <th>order_number</th>\n",
       "      <th>total_discounts</th>\n",
       "      <th>cancel_reason</th>\n",
       "      <th>processed_at</th>\n",
       "      <th>total_weight</th>\n",
       "      <th>cancelled_at</th>\n",
       "      <th>created_at</th>\n",
       "      <th>product_items</th>\n",
       "      <th>first_date_order</th>\n",
       "    </tr>\n",
       "  </thead>\n",
       "  <tbody>\n",
       "    <tr>\n",
       "      <th>0</th>\n",
       "      <td>Germany</td>\n",
       "      <td>81371</td>\n",
       "      <td>43539353630</td>\n",
       "      <td>1</td>\n",
       "      <td>0</td>\n",
       "      <td>customer</td>\n",
       "      <td>2019-12-03 13:08:32 UTC</td>\n",
       "      <td>0</td>\n",
       "      <td>2019-12-04 09:00:44 UTC</td>\n",
       "      <td>2019-12-03 13:08:33 UTC</td>\n",
       "      <td>Golf_set_with_caddy_shoes_and_50_balls</td>\n",
       "      <td>2019-12-03 13:08:33 UTC</td>\n",
       "    </tr>\n",
       "    <tr>\n",
       "      <th>1</th>\n",
       "      <td>Germany</td>\n",
       "      <td>12045</td>\n",
       "      <td>43973434860</td>\n",
       "      <td>2</td>\n",
       "      <td>0</td>\n",
       "      <td>customer</td>\n",
       "      <td>2019-12-04 09:23:09 UTC</td>\n",
       "      <td>0</td>\n",
       "      <td>2020-01-20 14:55:25 UTC</td>\n",
       "      <td>2019-12-04 09:23:09 UTC</td>\n",
       "      <td>Golf_set_with_caddy_shoes_and_50_balls</td>\n",
       "      <td>2019-12-04 09:23:09 UTC</td>\n",
       "    </tr>\n",
       "    <tr>\n",
       "      <th>2</th>\n",
       "      <td>Germany</td>\n",
       "      <td>8315</td>\n",
       "      <td>46668580946</td>\n",
       "      <td>3</td>\n",
       "      <td>0</td>\n",
       "      <td>None</td>\n",
       "      <td>2019-12-06 07:58:34 UTC</td>\n",
       "      <td>0</td>\n",
       "      <td>None</td>\n",
       "      <td>2019-12-06 07:58:34 UTC</td>\n",
       "      <td>Golf_set_with_caddy_shoes_and_50_balls</td>\n",
       "      <td>2019-12-06 07:58:34 UTC</td>\n",
       "    </tr>\n",
       "    <tr>\n",
       "      <th>3</th>\n",
       "      <td>Germany</td>\n",
       "      <td>91301</td>\n",
       "      <td>40345377076</td>\n",
       "      <td>4</td>\n",
       "      <td>0</td>\n",
       "      <td>None</td>\n",
       "      <td>2019-12-06 18:29:03 UTC</td>\n",
       "      <td>0</td>\n",
       "      <td>None</td>\n",
       "      <td>2019-12-06 18:29:04 UTC</td>\n",
       "      <td>Golf_set_with_caddy_shoes_and_50_balls</td>\n",
       "      <td>2019-12-06 18:29:04 UTC</td>\n",
       "    </tr>\n",
       "    <tr>\n",
       "      <th>4</th>\n",
       "      <td>Germany</td>\n",
       "      <td>8577</td>\n",
       "      <td>33355469588</td>\n",
       "      <td>5</td>\n",
       "      <td>0</td>\n",
       "      <td>None</td>\n",
       "      <td>2019-12-08 18:16:40 UTC</td>\n",
       "      <td>0</td>\n",
       "      <td>None</td>\n",
       "      <td>2019-12-08 18:16:40 UTC</td>\n",
       "      <td>Golf_set_with_caddy_shoes_and_50_balls</td>\n",
       "      <td>2019-12-08 18:16:40 UTC</td>\n",
       "    </tr>\n",
       "  </tbody>\n",
       "</table>\n",
       "</div>"
      ],
      "text/plain": [
       "  billing_address_country billing_address_zip  customer_id  order_number  \\\n",
       "0                 Germany               81371  43539353630             1   \n",
       "1                 Germany               12045  43973434860             2   \n",
       "2                 Germany                8315  46668580946             3   \n",
       "3                 Germany               91301  40345377076             4   \n",
       "4                 Germany                8577  33355469588             5   \n",
       "\n",
       "   total_discounts cancel_reason             processed_at  total_weight  \\\n",
       "0                0      customer  2019-12-03 13:08:32 UTC             0   \n",
       "1                0      customer  2019-12-04 09:23:09 UTC             0   \n",
       "2                0          None  2019-12-06 07:58:34 UTC             0   \n",
       "3                0          None  2019-12-06 18:29:03 UTC             0   \n",
       "4                0          None  2019-12-08 18:16:40 UTC             0   \n",
       "\n",
       "              cancelled_at               created_at  \\\n",
       "0  2019-12-04 09:00:44 UTC  2019-12-03 13:08:33 UTC   \n",
       "1  2020-01-20 14:55:25 UTC  2019-12-04 09:23:09 UTC   \n",
       "2                     None  2019-12-06 07:58:34 UTC   \n",
       "3                     None  2019-12-06 18:29:04 UTC   \n",
       "4                     None  2019-12-08 18:16:40 UTC   \n",
       "\n",
       "                            product_items         first_date_order  \n",
       "0  Golf_set_with_caddy_shoes_and_50_balls  2019-12-03 13:08:33 UTC  \n",
       "1  Golf_set_with_caddy_shoes_and_50_balls  2019-12-04 09:23:09 UTC  \n",
       "2  Golf_set_with_caddy_shoes_and_50_balls  2019-12-06 07:58:34 UTC  \n",
       "3  Golf_set_with_caddy_shoes_and_50_balls  2019-12-06 18:29:04 UTC  \n",
       "4  Golf_set_with_caddy_shoes_and_50_balls  2019-12-08 18:16:40 UTC  "
      ]
     },
     "execution_count": 2,
     "metadata": {},
     "output_type": "execute_result"
    }
   ],
   "source": [
    "df_orders = pd.read_parquet('orders_data.parquet')\n",
    "df_orders.head()"
   ]
  },
  {
   "cell_type": "code",
   "execution_count": 3,
   "metadata": {},
   "outputs": [
    {
     "data": {
      "text/html": [
       "<div>\n",
       "<style scoped>\n",
       "    .dataframe tbody tr th:only-of-type {\n",
       "        vertical-align: middle;\n",
       "    }\n",
       "\n",
       "    .dataframe tbody tr th {\n",
       "        vertical-align: top;\n",
       "    }\n",
       "\n",
       "    .dataframe thead th {\n",
       "        text-align: right;\n",
       "    }\n",
       "</style>\n",
       "<table border=\"1\" class=\"dataframe\">\n",
       "  <thead>\n",
       "    <tr style=\"text-align: right;\">\n",
       "      <th></th>\n",
       "      <th>product_type</th>\n",
       "      <th>product_price</th>\n",
       "      <th>product_category</th>\n",
       "      <th>product_title</th>\n",
       "    </tr>\n",
       "  </thead>\n",
       "  <tbody>\n",
       "    <tr>\n",
       "      <th>0</th>\n",
       "      <td>glove</td>\n",
       "      <td>39.99</td>\n",
       "      <td>golf</td>\n",
       "      <td>Golf_glove_left_hand</td>\n",
       "    </tr>\n",
       "    <tr>\n",
       "      <th>1</th>\n",
       "      <td>golf_balls</td>\n",
       "      <td>99.99</td>\n",
       "      <td>golf</td>\n",
       "      <td>Golf_balls_200</td>\n",
       "    </tr>\n",
       "    <tr>\n",
       "      <th>2</th>\n",
       "      <td>golf_balls</td>\n",
       "      <td>99.99</td>\n",
       "      <td>golf</td>\n",
       "      <td>Golf_balls_200</td>\n",
       "    </tr>\n",
       "    <tr>\n",
       "      <th>3</th>\n",
       "      <td>golf_balls</td>\n",
       "      <td>59.99</td>\n",
       "      <td>golf</td>\n",
       "      <td>Golf_balls_100</td>\n",
       "    </tr>\n",
       "    <tr>\n",
       "      <th>4</th>\n",
       "      <td>golf_balls</td>\n",
       "      <td>59.99</td>\n",
       "      <td>golf</td>\n",
       "      <td>Golf_balls_100</td>\n",
       "    </tr>\n",
       "  </tbody>\n",
       "</table>\n",
       "</div>"
      ],
      "text/plain": [
       "  product_type  product_price product_category         product_title\n",
       "0        glove          39.99             golf  Golf_glove_left_hand\n",
       "1   golf_balls          99.99             golf        Golf_balls_200\n",
       "2   golf_balls          99.99             golf        Golf_balls_200\n",
       "3   golf_balls          59.99             golf        Golf_balls_100\n",
       "4   golf_balls          59.99             golf        Golf_balls_100"
      ]
     },
     "execution_count": 3,
     "metadata": {},
     "output_type": "execute_result"
    }
   ],
   "source": [
    "#not needed for cohort analysis\n",
    "df_products = pd.read_parquet('products_data.parquet')\n",
    "df_products.head()"
   ]
  },
  {
   "cell_type": "code",
   "execution_count": 4,
   "metadata": {},
   "outputs": [
    {
     "name": "stdout",
     "output_type": "stream",
     "text": [
      "<class 'pandas.core.frame.DataFrame'>\n",
      "RangeIndex: 189140 entries, 0 to 189139\n",
      "Data columns (total 12 columns):\n",
      " #   Column                   Non-Null Count   Dtype \n",
      "---  ------                   --------------   ----- \n",
      " 0   billing_address_country  189138 non-null  object\n",
      " 1   billing_address_zip      189126 non-null  object\n",
      " 2   customer_id              189140 non-null  int64 \n",
      " 3   order_number             189140 non-null  int64 \n",
      " 4   total_discounts          189140 non-null  int64 \n",
      " 5   cancel_reason            1586 non-null    object\n",
      " 6   processed_at             189140 non-null  object\n",
      " 7   total_weight             189140 non-null  int64 \n",
      " 8   cancelled_at             1586 non-null    object\n",
      " 9   created_at               189140 non-null  object\n",
      " 10  product_items            189140 non-null  object\n",
      " 11  first_date_order         189140 non-null  object\n",
      "dtypes: int64(4), object(8)\n",
      "memory usage: 17.3+ MB\n"
     ]
    }
   ],
   "source": [
    "#checking for missing values\n",
    "df_orders.info()"
   ]
  },
  {
   "cell_type": "code",
   "execution_count": 5,
   "metadata": {
    "tags": []
   },
   "outputs": [
    {
     "data": {
      "text/html": [
       "<div>\n",
       "<style scoped>\n",
       "    .dataframe tbody tr th:only-of-type {\n",
       "        vertical-align: middle;\n",
       "    }\n",
       "\n",
       "    .dataframe tbody tr th {\n",
       "        vertical-align: top;\n",
       "    }\n",
       "\n",
       "    .dataframe thead th {\n",
       "        text-align: right;\n",
       "    }\n",
       "</style>\n",
       "<table border=\"1\" class=\"dataframe\">\n",
       "  <thead>\n",
       "    <tr style=\"text-align: right;\">\n",
       "      <th></th>\n",
       "      <th>count</th>\n",
       "      <th>mean</th>\n",
       "      <th>std</th>\n",
       "      <th>min</th>\n",
       "      <th>25%</th>\n",
       "      <th>50%</th>\n",
       "      <th>75%</th>\n",
       "      <th>max</th>\n",
       "    </tr>\n",
       "  </thead>\n",
       "  <tbody>\n",
       "    <tr>\n",
       "      <th>customer_id</th>\n",
       "      <td>189140.0</td>\n",
       "      <td>5.048123e+10</td>\n",
       "      <td>2.562484e+10</td>\n",
       "      <td>774340.0</td>\n",
       "      <td>3.498364e+10</td>\n",
       "      <td>4.644472e+10</td>\n",
       "      <td>6.848076e+10</td>\n",
       "      <td>9.999933e+10</td>\n",
       "    </tr>\n",
       "    <tr>\n",
       "      <th>order_number</th>\n",
       "      <td>189140.0</td>\n",
       "      <td>9.440032e+04</td>\n",
       "      <td>5.459239e+04</td>\n",
       "      <td>1.0</td>\n",
       "      <td>4.711875e+04</td>\n",
       "      <td>9.440350e+04</td>\n",
       "      <td>1.416882e+05</td>\n",
       "      <td>1.888100e+05</td>\n",
       "    </tr>\n",
       "    <tr>\n",
       "      <th>total_discounts</th>\n",
       "      <td>189140.0</td>\n",
       "      <td>8.854288e-02</td>\n",
       "      <td>8.599538e-01</td>\n",
       "      <td>0.0</td>\n",
       "      <td>0.000000e+00</td>\n",
       "      <td>0.000000e+00</td>\n",
       "      <td>0.000000e+00</td>\n",
       "      <td>1.000000e+02</td>\n",
       "    </tr>\n",
       "    <tr>\n",
       "      <th>total_weight</th>\n",
       "      <td>189140.0</td>\n",
       "      <td>8.810323e+02</td>\n",
       "      <td>7.824621e+03</td>\n",
       "      <td>0.0</td>\n",
       "      <td>0.000000e+00</td>\n",
       "      <td>0.000000e+00</td>\n",
       "      <td>0.000000e+00</td>\n",
       "      <td>1.010000e+06</td>\n",
       "    </tr>\n",
       "  </tbody>\n",
       "</table>\n",
       "</div>"
      ],
      "text/plain": [
       "                    count          mean           std       min           25%  \\\n",
       "customer_id      189140.0  5.048123e+10  2.562484e+10  774340.0  3.498364e+10   \n",
       "order_number     189140.0  9.440032e+04  5.459239e+04       1.0  4.711875e+04   \n",
       "total_discounts  189140.0  8.854288e-02  8.599538e-01       0.0  0.000000e+00   \n",
       "total_weight     189140.0  8.810323e+02  7.824621e+03       0.0  0.000000e+00   \n",
       "\n",
       "                          50%           75%           max  \n",
       "customer_id      4.644472e+10  6.848076e+10  9.999933e+10  \n",
       "order_number     9.440350e+04  1.416882e+05  1.888100e+05  \n",
       "total_discounts  0.000000e+00  0.000000e+00  1.000000e+02  \n",
       "total_weight     0.000000e+00  0.000000e+00  1.010000e+06  "
      ]
     },
     "execution_count": 5,
     "metadata": {},
     "output_type": "execute_result"
    }
   ],
   "source": [
    "#summary statistics of quantitative variables\n",
    "df_orders.describe().transpose()"
   ]
  },
  {
   "cell_type": "code",
   "execution_count": 6,
   "metadata": {},
   "outputs": [
    {
     "name": "stdout",
     "output_type": "stream",
     "text": [
      "16.05% of customers ordered more than once.\n"
     ]
    }
   ],
   "source": [
    "#looking for percentage of retentions\n",
    "n_orders = df_orders.groupby(['customer_id'])['order_number'].nunique()\n",
    "mult_orders_perc = np.sum(n_orders > 1) / df_orders['customer_id'].nunique()\n",
    "print(f'{100 * mult_orders_perc:.2f}% of customers ordered more than once.')"
   ]
  },
  {
   "cell_type": "code",
   "execution_count": 7,
   "metadata": {},
   "outputs": [
    {
     "name": "stderr",
     "output_type": "stream",
     "text": [
      "/Users/dress/opt/anaconda3/lib/python3.8/site-packages/seaborn/distributions.py:2557: FutureWarning: `distplot` is a deprecated function and will be removed in a future version. Please adapt your code to use either `displot` (a figure-level function with similar flexibility) or `histplot` (an axes-level function for histograms).\n",
      "  warnings.warn(msg, FutureWarning)\n"
     ]
    },
    {
     "data": {
      "image/png": "[encoded data removed]",
      "text/plain": [
       "<Figure size 432x288 with 1 Axes>"
      ]
     },
     "metadata": {
      "needs_background": "light"
     },
     "output_type": "display_data"
    }
   ],
   "source": [
    "#distribution of number of orders per customer\n",
    "ax = sns.distplot(n_orders, kde=False, hist=True)\n",
    "ax.set(title='Distribution of number of orders per customer',\n",
    "       xlabel='# of orders', \n",
    "       ylabel='# of customers');"
   ]
  },
  {
   "cell_type": "markdown",
   "metadata": {},
   "source": [
    "## 2) perform cohort analysis"
   ]
  },
  {
   "cell_type": "code",
   "execution_count": 8,
   "metadata": {},
   "outputs": [
    {
     "name": "stdout",
     "output_type": "stream",
     "text": [
      "<class 'pandas.core.frame.DataFrame'>\n",
      "Int64Index: 188863 entries, 0 to 189139\n",
      "Data columns (total 4 columns):\n",
      " #   Column            Non-Null Count   Dtype              \n",
      "---  ------            --------------   -----              \n",
      " 0   customer_id       188863 non-null  int64              \n",
      " 1   order_number      188863 non-null  int64              \n",
      " 2   created_at        188863 non-null  datetime64[ns, UTC]\n",
      " 3   first_date_order  188863 non-null  datetime64[ns, UTC]\n",
      "dtypes: datetime64[ns, UTC](2), int64(2)\n",
      "memory usage: 7.2 MB\n"
     ]
    }
   ],
   "source": [
    "#select data for cohort analysis and drop duplicate values\n",
    "df_orders = df_orders[['customer_id', 'order_number', 'created_at', 'first_date_order']].drop_duplicates()\n",
    "df_orders['created_at'] = pd.to_datetime(df_orders['created_at'])\n",
    "df_orders['first_date_order'] = pd.to_datetime(df_orders['first_date_order'])\n",
    "df_orders.info()"
   ]
  },
  {
   "cell_type": "code",
   "execution_count": 9,
   "metadata": {},
   "outputs": [
    {
     "name": "stderr",
     "output_type": "stream",
     "text": [
      "/Users/dress/opt/anaconda3/lib/python3.8/site-packages/pandas/core/arrays/datetimes.py:1101: UserWarning: Converting to PeriodArray/Index representation will drop timezone information.\n",
      "  warnings.warn(\n"
     ]
    }
   ],
   "source": [
    "df_orders['order_month'] = df_orders['created_at'].dt.to_period('M') #truncated month of the purchase date\n",
    "df_orders['cohort'] = df_orders.groupby('customer_id')['first_date_order'] \\\n",
    "                 .transform('min') \\\n",
    "                 .dt.to_period('M')  #monthly cohort based on the first purchase date"
   ]
  },
  {
   "cell_type": "code",
   "execution_count": 10,
   "metadata": {},
   "outputs": [
    {
     "data": {
      "text/plain": [
       "0      0\n",
       "1      1\n",
       "2      2\n",
       "3      3\n",
       "4      5\n",
       "      ..\n",
       "126    1\n",
       "127    2\n",
       "128    0\n",
       "129    1\n",
       "130    0\n",
       "Name: period_number, Length: 131, dtype: int64"
      ]
     },
     "execution_count": 10,
     "metadata": {},
     "output_type": "execute_result"
    }
   ],
   "source": [
    "#aggregate the data per cohort and order_month and count the number of unique customers in each group\n",
    "df_cohort = df_orders.groupby(['cohort', 'order_month']) \\\n",
    "              .agg(n_customers=('customer_id', 'nunique')) \\\n",
    "              .reset_index(drop=False)\n",
    "\n",
    "#number of periods between the cohort month and the month of the purchase\n",
    "df_cohort['period_number'] = (df_cohort.order_month - df_cohort.cohort).apply(attrgetter('n'))\n",
    "df_cohort['period_number']"
   ]
  },
  {
   "cell_type": "code",
   "execution_count": 11,
   "metadata": {},
   "outputs": [],
   "source": [
    "#transform dataframe into pivot table\n",
    "cohort_pivot = df_cohort.pivot_table(index = 'cohort',\n",
    "                                     columns = 'period_number',\n",
    "                                     values = 'n_customers')"
   ]
  },
  {
   "cell_type": "code",
   "execution_count": 12,
   "metadata": {},
   "outputs": [],
   "source": [
    "#obtain retention matrix by dividing the values each row by the cohort size\n",
    "cohort_size = cohort_pivot.iloc[:,0]\n",
    "retention_matrix = cohort_pivot.divide(cohort_size, axis = 0)"
   ]
  },
  {
   "cell_type": "code",
   "execution_count": 13,
   "metadata": {},
   "outputs": [
    {
     "data": {
      "image/png": "[encoded data removed]",
      "text/plain": [
       "<Figure size 864x576 with 3 Axes>"
      ]
     },
     "metadata": {},
     "output_type": "display_data"
    }
   ],
   "source": [
    "with sns.axes_style(\"white\"):\n",
    "    fig, ax = plt.subplots(1, 2, figsize=(12, 8), sharey=True, gridspec_kw={'width_ratios': [1, 11]})\n",
    "    \n",
    "    # retention matrix\n",
    "    sns.heatmap(retention_matrix, \n",
    "                mask=retention_matrix.isnull(), \n",
    "                annot=True, \n",
    "                fmt='.0%', \n",
    "                cmap='RdYlGn', \n",
    "                ax=ax[1])\n",
    "    ax[1].set_title('Monthly Cohorts: User Retention', fontsize=16)\n",
    "    ax[1].set(xlabel='# of periods',\n",
    "              ylabel='')\n",
    "\n",
    "    # cohort size\n",
    "    cohort_size_df = pd.DataFrame(cohort_size).rename(columns={0: 'cohort_size'})\n",
    "    white_cmap = mcolors.ListedColormap(['white'])\n",
    "    sns.heatmap(cohort_size_df, \n",
    "                annot=True, \n",
    "                cbar=False, \n",
    "                fmt='g', \n",
    "                cmap=white_cmap, \n",
    "                ax=ax[0])\n",
    "\n",
    "    fig.tight_layout()"
   ]
  },
  {
   "cell_type": "markdown",
   "metadata": {},
   "source": [
    "### What are the repurchase rates of the different cohorts?\n",
    "\n",
    "Actually, we can see that the retention rate is quite low in general, it is well below 10% meaning that not many people are buying the product again after the first purchase."
   ]
  },
  {
   "cell_type": "markdown",
   "metadata": {},
   "source": [
    "### What trends do you see in the behaviour over time?\n",
    "\n",
    "Considering the low retention rate highlited in the previous answer, we can notice that we have a slight increase from 2020-07 to 2020-12, probably due to more incisive marketing campaigns reaching the right customers in the considered time interval."
   ]
  },
  {
   "cell_type": "code",
   "execution_count": null,
   "metadata": {},
   "outputs": [],
   "source": []
  }
 ],
 "metadata": {
  "kernelspec": {
   "display_name": "Python 3",
   "language": "python",
   "name": "python3"
  },
  "language_info": {
   "codemirror_mode": {
    "name": "ipython",
    "version": 3
   },
   "file_extension": ".py",
   "mimetype": "text/x-python",
   "name": "python",
   "nbconvert_exporter": "python",
   "pygments_lexer": "ipython3",
   "version": "3.8.8"
  }
 },
 "nbformat": 4,
 "nbformat_minor": 4
}
